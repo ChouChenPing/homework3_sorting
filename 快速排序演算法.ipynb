{
  "nbformat": 4,
  "nbformat_minor": 0,
  "metadata": {
    "colab": {
      "provenance": []
    },
    "kernelspec": {
      "name": "python3",
      "display_name": "Python 3"
    },
    "language_info": {
      "name": "python"
    }
  },
  "cells": [
    {
      "cell_type": "code",
      "execution_count": null,
      "metadata": {
        "colab": {
          "base_uri": "https://localhost:8080/"
        },
        "id": "MK8bNVIWHnh8",
        "outputId": "1b8cde1f-3333-44e6-e229-8deae4cc12d8"
      },
      "outputs": [
        {
          "output_type": "stream",
          "name": "stdout",
          "text": [
            "長度是10, 代表的數字是41\n"
          ]
        },
        {
          "output_type": "execute_result",
          "data": {
            "text/plain": [
              "8"
            ]
          },
          "metadata": {},
          "execution_count": 37
        }
      ],
      "source": [
        "list = [33, 67, 8, 13, 54, 119, 3, 84, 25, 41]\n",
        "print(f\"長度是{len(list)}, 代表的數字是{list[len(list)-1]}\")\n",
        "def find(number) :\n",
        "  for i in range(0,len(list)):\n",
        "    if list[i] == number:\n",
        "      return i\n",
        "  return -1\n",
        "find(25)"
      ]
    },
    {
      "cell_type": "code",
      "source": [
        "#選擇排序法\n",
        "def selection_sort(data):\n",
        "  for i in range(len(data)) :\n",
        "    for j in range(i+1, len(data)):\n",
        "      smallest = data[i]\n",
        "      if data[j] < smallest:\n",
        "        data[i], data[j] = data[j], data[i]\n",
        "        print(data)\n",
        "  return data\n",
        "list_to_sort = [33, 67, 8, 13, 54, 119, 3, 84, 25, 41]\n",
        "selection_sort(list_to_sort)"
      ],
      "metadata": {
        "id": "69NCk9ySH0XU",
        "colab": {
          "base_uri": "https://localhost:8080/"
        },
        "outputId": "ada332fe-c8e4-4ffb-db57-933e4031feae"
      },
      "execution_count": null,
      "outputs": [
        {
          "output_type": "stream",
          "name": "stdout",
          "text": [
            "[8, 67, 33, 13, 54, 119, 3, 84, 25, 41]\n",
            "[3, 67, 33, 13, 54, 119, 8, 84, 25, 41]\n",
            "[3, 33, 67, 13, 54, 119, 8, 84, 25, 41]\n",
            "[3, 13, 67, 33, 54, 119, 8, 84, 25, 41]\n",
            "[3, 8, 67, 33, 54, 119, 13, 84, 25, 41]\n",
            "[3, 8, 33, 67, 54, 119, 13, 84, 25, 41]\n",
            "[3, 8, 13, 67, 54, 119, 33, 84, 25, 41]\n",
            "[3, 8, 13, 54, 67, 119, 33, 84, 25, 41]\n",
            "[3, 8, 13, 33, 67, 119, 54, 84, 25, 41]\n",
            "[3, 8, 13, 25, 67, 119, 54, 84, 33, 41]\n",
            "[3, 8, 13, 25, 54, 119, 67, 84, 33, 41]\n",
            "[3, 8, 13, 25, 33, 119, 67, 84, 54, 41]\n",
            "[3, 8, 13, 25, 33, 67, 119, 84, 54, 41]\n",
            "[3, 8, 13, 25, 33, 54, 119, 84, 67, 41]\n",
            "[3, 8, 13, 25, 33, 41, 119, 84, 67, 54]\n",
            "[3, 8, 13, 25, 33, 41, 84, 119, 67, 54]\n",
            "[3, 8, 13, 25, 33, 41, 67, 119, 84, 54]\n",
            "[3, 8, 13, 25, 33, 41, 54, 119, 84, 67]\n",
            "[3, 8, 13, 25, 33, 41, 54, 84, 119, 67]\n",
            "[3, 8, 13, 25, 33, 41, 54, 67, 119, 84]\n",
            "[3, 8, 13, 25, 33, 41, 54, 67, 84, 119]\n"
          ]
        },
        {
          "output_type": "execute_result",
          "data": {
            "text/plain": [
              "[3, 8, 13, 25, 33, 41, 54, 67, 84, 119]"
            ]
          },
          "metadata": {},
          "execution_count": 38
        }
      ]
    },
    {
      "cell_type": "code",
      "source": [
        "#泡泡排序法\n",
        "def bubble_sort(data):\n",
        "  for i in range(len(data)):\n",
        "    for j in range(len(data)-1-i):\n",
        "      if data[j] > data[j+1]:\n",
        "        data[j], data[j+1] = data[j+1], data[j]\n",
        "        print(data)\n",
        "  return data\n",
        "list_to_sort = [33, 67, 8, 13, 54, 119, 3, 84, 25, 41]\n",
        "bubble_sort(list_to_sort)"
      ],
      "metadata": {
        "id": "xvXJilA9H4xd",
        "colab": {
          "base_uri": "https://localhost:8080/"
        },
        "outputId": "75a2c9a8-7535-4797-c62d-2b8a3b895478"
      },
      "execution_count": null,
      "outputs": [
        {
          "output_type": "stream",
          "name": "stdout",
          "text": [
            "[33, 8, 67, 13, 54, 119, 3, 84, 25, 41]\n",
            "[33, 8, 13, 67, 54, 119, 3, 84, 25, 41]\n",
            "[33, 8, 13, 54, 67, 119, 3, 84, 25, 41]\n",
            "[33, 8, 13, 54, 67, 3, 119, 84, 25, 41]\n",
            "[33, 8, 13, 54, 67, 3, 84, 119, 25, 41]\n",
            "[33, 8, 13, 54, 67, 3, 84, 25, 119, 41]\n",
            "[33, 8, 13, 54, 67, 3, 84, 25, 41, 119]\n",
            "[8, 33, 13, 54, 67, 3, 84, 25, 41, 119]\n",
            "[8, 13, 33, 54, 67, 3, 84, 25, 41, 119]\n",
            "[8, 13, 33, 54, 3, 67, 84, 25, 41, 119]\n",
            "[8, 13, 33, 54, 3, 67, 25, 84, 41, 119]\n",
            "[8, 13, 33, 54, 3, 67, 25, 41, 84, 119]\n",
            "[8, 13, 33, 3, 54, 67, 25, 41, 84, 119]\n",
            "[8, 13, 33, 3, 54, 25, 67, 41, 84, 119]\n",
            "[8, 13, 33, 3, 54, 25, 41, 67, 84, 119]\n",
            "[8, 13, 3, 33, 54, 25, 41, 67, 84, 119]\n",
            "[8, 13, 3, 33, 25, 54, 41, 67, 84, 119]\n",
            "[8, 13, 3, 33, 25, 41, 54, 67, 84, 119]\n",
            "[8, 3, 13, 33, 25, 41, 54, 67, 84, 119]\n",
            "[8, 3, 13, 25, 33, 41, 54, 67, 84, 119]\n",
            "[3, 8, 13, 25, 33, 41, 54, 67, 84, 119]\n"
          ]
        },
        {
          "output_type": "execute_result",
          "data": {
            "text/plain": [
              "[3, 8, 13, 25, 33, 41, 54, 67, 84, 119]"
            ]
          },
          "metadata": {},
          "execution_count": 39
        }
      ]
    },
    {
      "cell_type": "code",
      "source": [
        "#請AI生成的版本，一開始覺得這個比較直觀，也是更簡潔的表達方式；但後來想想因為沒有指標的交換，可能不太像快速排序法 (而是有混用其他的排序方法)\n",
        "def quick_sort(data):\n",
        "\n",
        "  if len(data) < 2:  # 基底條件：如果列表為空或只有一個元素，則它已經排序\n",
        "    return data\n",
        "  else:\n",
        "    pivot = data[0]  # 選擇第一個元素作為基準\n",
        "    less = [i for i in data[1:] if i <= pivot]  # 建立一個包含所有小於或等於基準的元素的列表\n",
        "    greater = [i for i in data[1:] if i > pivot]  # 建立一個包含所有大於基準的元素的列表\n",
        "    # 遞迴排序較小和較大的列表，並將它們與基準組合起來\n",
        "    print(less, greater)\n",
        "    quick_sort(less)\n",
        "    quick_sort(greater)\n",
        "    return quick_sort(less) + [pivot] + quick_sort(greater)\n",
        "\n",
        "# 範例用法\n",
        "list_to_sort = [33, 67, 8, 13, 54, 119, 3, 84, 25, 41]\n",
        "sorted_list = quick_sort(list_to_sort)\n",
        "print(f\"排序後的列表：{sorted_list}\")"
      ],
      "metadata": {
        "colab": {
          "base_uri": "https://localhost:8080/"
        },
        "id": "uYm9zjV_aOhl",
        "outputId": "8e23e99a-14ef-4b85-bf31-ede3e2c9ad82"
      },
      "execution_count": null,
      "outputs": [
        {
          "output_type": "stream",
          "name": "stdout",
          "text": [
            "[8, 13, 3, 25] [67, 54, 119, 84, 41]\n",
            "[3] [13, 25]\n",
            "[] [25]\n",
            "[] [25]\n",
            "[54, 41] [119, 84]\n",
            "[41] []\n",
            "[84] []\n",
            "[41] []\n",
            "[84] []\n",
            "[3] [13, 25]\n",
            "[] [25]\n",
            "[] [25]\n",
            "[54, 41] [119, 84]\n",
            "[41] []\n",
            "[84] []\n",
            "[41] []\n",
            "[84] []\n",
            "排序後的列表：[3, 8, 13, 25, 33, 41, 54, 67, 84, 119]\n"
          ]
        }
      ]
    },
    {
      "cell_type": "code",
      "source": [
        "#這是我正是照著老師的虛擬碼寫出來的程式 (有把虛擬碼的條件全部翻轉過來，才可以達成想要的結果)\n",
        "def quick_sort_test(data):\n",
        "  left_list = []\n",
        "  right_list = []\n",
        "  if len(data) < 2:\n",
        "    return data\n",
        "  else:\n",
        "    pivot = 0\n",
        "    left = 0\n",
        "    right = len(data)-1\n",
        "    while left != right:\n",
        "      while data[right] >= data[pivot] and left < right:\n",
        "        right -= 1\n",
        "      while data[left] <= data[pivot] and left < right:\n",
        "        left += 1\n",
        "      data[left],data[right] = data[right],data[left]\n",
        "      print(data)\n",
        "    data[pivot],data[left] = data[left],data[pivot]\n",
        "    print(data)\n",
        "    left_list = quick_sort_test(data[:left])\n",
        "    right_list = quick_sort_test(data[left+1:])\n",
        "    return left_list + [data[left]] + right_list\n",
        "list_to_sort = [33, 67, 8, 13, 54, 119, 3, 84, 25, 41]\n",
        "quick_sort_test(list_to_sort)\n"
      ],
      "metadata": {
        "colab": {
          "base_uri": "https://localhost:8080/"
        },
        "id": "hnf6pOvKb4Ia",
        "outputId": "f2590078-539c-4fd8-9bfe-bdb290c7ec98"
      },
      "execution_count": null,
      "outputs": [
        {
          "output_type": "stream",
          "name": "stdout",
          "text": [
            "[33, 25, 8, 13, 54, 119, 3, 84, 67, 41]\n",
            "[33, 25, 8, 13, 3, 119, 54, 84, 67, 41]\n",
            "[33, 25, 8, 13, 3, 119, 54, 84, 67, 41]\n",
            "[3, 25, 8, 13, 33, 119, 54, 84, 67, 41]\n",
            "[3, 25, 8, 13]\n",
            "[3, 25, 8, 13]\n",
            "[25, 8, 13]\n",
            "[13, 8, 25]\n",
            "[13, 8]\n",
            "[8, 13]\n",
            "[119, 54, 84, 67, 41]\n",
            "[41, 54, 84, 67, 119]\n",
            "[41, 54, 84, 67]\n",
            "[41, 54, 84, 67]\n",
            "[54, 84, 67]\n",
            "[54, 84, 67]\n",
            "[84, 67]\n",
            "[67, 84]\n"
          ]
        },
        {
          "output_type": "execute_result",
          "data": {
            "text/plain": [
              "[3, 8, 13, 25, 33, 41, 54, 67, 84, 119]"
            ]
          },
          "metadata": {},
          "execution_count": 41
        }
      ]
    }
  ]
}